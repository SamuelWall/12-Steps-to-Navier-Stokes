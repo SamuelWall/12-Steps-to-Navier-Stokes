{
 "cells": [
  {
   "cell_type": "code",
   "execution_count": 62,
   "metadata": {},
   "outputs": [],
   "source": [
    "import numpy                       #here we load numpy\n",
    "import matplotlib.pyplot as plt     #here we load matplotlib\n",
    "from matplotlib import animation\n",
    "import time, sys                   #and load some utilities\n",
    "%matplotlib inline      "
   ]
  },
  {
   "cell_type": "code",
   "execution_count": 63,
   "metadata": {},
   "outputs": [],
   "source": [
    "nx = 41  # try changing this number from 41 to 81 and Run All ... what happens?\n",
    "dx = 2 / (nx-1)\n",
    "nt = 25    #nt is the number of timesteps we want to calculate\n",
    "dt = .025  #dt is the amount of time each timestep covers (delta t)\n",
    "c = 1      #assume wavespeed of c = 1"
   ]
  },
  {
   "cell_type": "code",
   "execution_count": 64,
   "metadata": {},
   "outputs": [
    {
     "name": "stdout",
     "output_type": "stream",
     "text": [
      "[1. 1. 1. 1. 1. 1. 1. 1. 1. 1. 2. 2. 2. 2. 2. 2. 2. 2. 2. 2. 2. 1. 1. 1.\n",
      " 1. 1. 1. 1. 1. 1. 1. 1. 1. 1. 1. 1. 1. 1. 1. 1. 1.]\n"
     ]
    },
    {
     "data": {
      "image/png": "[encoded data removed]",
      "text/plain": [
       "<Figure size 432x288 with 1 Axes>"
      ]
     },
     "metadata": {
      "needs_background": "light"
     },
     "output_type": "display_data"
    }
   ],
   "source": [
    "u = numpy.ones(nx)      #numpy function ones()\n",
    "u[int(.5 / dx):int(1 / dx + 1)] = 2  #setting u = 2 between 0.5 and 1 as per our I.C.s\n",
    "print(u)\n",
    "plt.plot(numpy.linspace(0, 2, nx), u);"
   ]
  },
  {
   "cell_type": "code",
   "execution_count": 66,
   "metadata": {},
   "outputs": [
    {
     "ename": "SyntaxError",
     "evalue": "positional argument follows keyword argument (<ipython-input-66-904ba25465d2>, line 21)",
     "output_type": "error",
     "traceback": [
      "\u001b[1;36m  File \u001b[1;32m\"<ipython-input-66-904ba25465d2>\"\u001b[1;36m, line \u001b[1;32m21\u001b[0m\n\u001b[1;33m    fig, animate, init_func=init, frames=41, interval=200, blit=True, '''repeat_delay=1000''')\u001b[0m\n\u001b[1;37m                                                                     ^\u001b[0m\n\u001b[1;31mSyntaxError\u001b[0m\u001b[1;31m:\u001b[0m positional argument follows keyword argument\n"
     ]
    }
   ],
   "source": [
    "%matplotlib notebook\n",
    "fig, ax = plt.subplots()\n",
    "\n",
    "u = numpy.ones(nx)      #numpy function ones()\n",
    "u[int(.5 / dx):int(1 / dx + 1)]\n",
    "\n",
    "x = numpy.linspace(0, 2, nx)\n",
    "line, = ax.plot(x,u)\n",
    "\n",
    "def init():\n",
    "    line.set_ydata([numpy.nan] * len(x))\n",
    "#     u = numpy.ones(nx)      #numpy function ones()\n",
    "#     u[int(.5 / dx):int(1 / dx + 1)]\n",
    "    return line,\n",
    "\n",
    "def animate(i):\n",
    "    un = u.copy() ##copy the existing values of u into un\n",
    "    for i in range(1, nx): \n",
    "        u[i] = un[i] - c * dt / dx * (un[i] - un[i-1])\n",
    "    line.set_ydata(u)\n",
    "    return line,\n",
    "    \n",
    "ani = animation.FuncAnimation(\n",
    "    fig, animate, init_func=init, frames=41, interval=200, blit=True, '''repeat_delay=1000''')\n",
    "\n",
    "plt.title(\"1-D Linear Convection\")\n",
    "plt.ylabel(\"Temperature\")\n",
    "plt.xlabel(\"Position\")\n",
    "plt.show()"
   ]
  },
  {
   "cell_type": "code",
   "execution_count": null,
   "metadata": {},
   "outputs": [],
   "source": []
  }
 ],
 "metadata": {
  "kernelspec": {
   "display_name": "p36workshop",
   "language": "python",
   "name": "p36workshop"
  },
  "language_info": {
   "codemirror_mode": {
    "name": "ipython",
    "version": 3
   },
   "file_extension": ".py",
   "mimetype": "text/x-python",
   "name": "python",
   "nbconvert_exporter": "python",
   "pygments_lexer": "ipython3",
   "version": "3.6.10"
  }
 },
 "nbformat": 4,
 "nbformat_minor": 4
}
